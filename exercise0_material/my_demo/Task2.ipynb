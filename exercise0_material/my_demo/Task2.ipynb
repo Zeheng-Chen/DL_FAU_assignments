{
 "cells": [
  {
   "cell_type": "code",
   "execution_count": 1,
   "metadata": {},
   "outputs": [
    {
     "data": {
      "image/png": "[encoded data removed]",
      "text/plain": [
       "<Figure size 640x480 with 1 Axes>"
      ]
     },
     "metadata": {},
     "output_type": "display_data"
    }
   ],
   "source": [
    "import numpy as np\n",
    "import matplotlib.pyplot as plt\n",
    "\n",
    "class Circle:\n",
    "    def __init__(self, resolution, radius, position):\n",
    "        self.resolution = resolution\n",
    "        self.radius = radius\n",
    "        self.position = position\n",
    "        self.output = np.zeros((resolution, resolution))\n",
    "\n",
    "    def draw(self):\n",
    "        raws, cols = np.meshgrid(np.arange(self.resolution),np.arange(self.resolution))\n",
    "        x_center , y_center = self.position\n",
    "\n",
    "        distance = np.sqrt((raws-x_center)**2 + (cols-y_center)**2)\n",
    "        self.output[distance <= self.radius] = 1\n",
    "        return self.output.copy()\n",
    "    \n",
    "    def show(self):\n",
    "        plt.imshow(self.output, cmap ='gray')\n",
    "        plt.axis('off')\n",
    "        plt.show()\n",
    "\n",
    "if __name__ == \"__main__\":\n",
    "\n",
    "    circle = Circle(resolution = 1000, radius=250, position = (500,400))\n",
    "    circle.draw()\n",
    "    circle.show()"
   ]
  },
  {
   "cell_type": "code",
   "execution_count": 51,
   "metadata": {},
   "outputs": [
    {
     "name": "stdout",
     "output_type": "stream",
     "text": [
      "[[4.47213595 3.60555128 2.82842712 2.23606798 2.         2.23606798\n",
      "  2.82842712 3.60555128 4.47213595 5.38516481]\n",
      " [4.12310563 3.16227766 2.23606798 1.41421356 1.         1.41421356\n",
      "  2.23606798 3.16227766 4.12310563 5.09901951]\n",
      " [4.         3.         2.         1.         0.         1.\n",
      "  2.         3.         4.         5.        ]\n",
      " [4.12310563 3.16227766 2.23606798 1.41421356 1.         1.41421356\n",
      "  2.23606798 3.16227766 4.12310563 5.09901951]\n",
      " [4.47213595 3.60555128 2.82842712 2.23606798 2.         2.23606798\n",
      "  2.82842712 3.60555128 4.47213595 5.38516481]\n",
      " [5.         4.24264069 3.60555128 3.16227766 3.         3.16227766\n",
      "  3.60555128 4.24264069 5.         5.83095189]\n",
      " [5.65685425 5.         4.47213595 4.12310563 4.         4.12310563\n",
      "  4.47213595 5.         5.65685425 6.40312424]\n",
      " [6.40312424 5.83095189 5.38516481 5.09901951 5.         5.09901951\n",
      "  5.38516481 5.83095189 6.40312424 7.07106781]\n",
      " [7.21110255 6.70820393 6.32455532 6.08276253 6.         6.08276253\n",
      "  6.32455532 6.70820393 7.21110255 7.81024968]\n",
      " [8.06225775 7.61577311 7.28010989 7.07106781 7.         7.07106781\n",
      "  7.28010989 7.61577311 8.06225775 8.60232527]]\n"
     ]
    }
   ],
   "source": [
    "x=y = np.arange(10)\n",
    "#print(x)\n",
    "arr = np.meshgrid(x,y)\n",
    "#print(arr)\n",
    "dis = np.sqrt((arr[0]-4)**2 +(arr[1]-2)**2)\n",
    "print(dis)"
   ]
  }
 ],
 "metadata": {
  "kernelspec": {
   "display_name": "bit",
   "language": "python",
   "name": "python3"
  },
  "language_info": {
   "codemirror_mode": {
    "name": "ipython",
    "version": 3
   },
   "file_extension": ".py",
   "mimetype": "text/x-python",
   "name": "python",
   "nbconvert_exporter": "python",
   "pygments_lexer": "ipython3",
   "version": "3.7.12"
  }
 },
 "nbformat": 4,
 "nbformat_minor": 2
}
