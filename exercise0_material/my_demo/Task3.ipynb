{
 "cells": [
  {
   "cell_type": "code",
   "execution_count": 1,
   "metadata": {},
   "outputs": [
    {
     "data": {
      "image/png": "[encoded data removed]",
      "text/plain": [
       "<Figure size 640x480 with 1 Axes>"
      ]
     },
     "metadata": {},
     "output_type": "display_data"
    }
   ],
   "source": [
    "import numpy as np\n",
    "import matplotlib.pyplot as plt\n",
    "\n",
    "class Spectrum:\n",
    "    def __init__(self, resolution):\n",
    "        self.resolution = resolution\n",
    "        self.output = self.draw()\n",
    "\n",
    "    def draw(self):\n",
    "        # 生成每个通道的色彩值\n",
    "        red_channel = np.linspace(0, 1, self.resolution)\n",
    "        green_channel = np.linspace(0, 1, self.resolution)\n",
    "        blue_channel = np.linspace(0, 1, self.resolution)\n",
    "        \n",
    "        # 创建RGB图像\n",
    "        spectrum = np.zeros((self.resolution, self.resolution,3))\n",
    "        spectrum[:, :,0] = red_channel[np.newaxis]\n",
    "        spectrum[:, :,1] = green_channel[:,np.newaxis]\n",
    "        spectrum[:, :,2] = np.abs(blue_channel[np.newaxis,:]-1)\n",
    "        \n",
    "     \n",
    "        \n",
    "\n",
    "        \n",
    "        return spectrum\n",
    "\n",
    "    def show(self):\n",
    "        plt.imshow(self.output)\n",
    "        plt.axis('off')\n",
    "        plt.show()\n",
    "\n",
    "# 在主脚本中验证实现\n",
    "if __name__ == \"__main__\":\n",
    "    spectrum = Spectrum(512)\n",
    "    spectrum.show() \n"
   ]
  }
 ],
 "metadata": {
  "kernelspec": {
   "display_name": "bit",
   "language": "python",
   "name": "python3"
  },
  "language_info": {
   "codemirror_mode": {
    "name": "ipython",
    "version": 3
   },
   "file_extension": ".py",
   "mimetype": "text/x-python",
   "name": "python",
   "nbconvert_exporter": "python",
   "pygments_lexer": "ipython3",
   "version": "3.7.12"
  }
 },
 "nbformat": 4,
 "nbformat_minor": 2
}
