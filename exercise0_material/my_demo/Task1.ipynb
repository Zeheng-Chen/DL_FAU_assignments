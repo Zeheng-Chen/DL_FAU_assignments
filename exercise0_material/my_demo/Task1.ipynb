{
 "cells": [
  {
   "cell_type": "markdown",
   "metadata": {},
   "source": [
    "### task 1\n"
   ]
  },
  {
   "cell_type": "markdown",
   "metadata": {},
   "source": [
    "Create a file “pattern.py” and implement the *classes* **Checker** and **Circle** in this file.\n",
    "Note that we do not provide any skeleton here. Also create a file **“main.py”**, which\n",
    "imports all other classes.  \n",
    "***\n",
    "Import numpy for calculation and matplotlib for visualisation using  \n",
    "**import numpy as np**\n",
    "and\n",
    "**import matplotlib.pyplot as plt.**  \n",
    "This is the most common way to import those packages."
   ]
  },
  {
   "cell_type": "code",
   "execution_count": 1,
   "metadata": {},
   "outputs": [
    {
     "name": "stdout",
     "output_type": "stream",
     "text": [
      "[[0 0 1 1 0 0 1 1 0 0 1 1 0 0 1 1 0 0 1 1]\n",
      " [0 0 1 1 0 0 1 1 0 0 1 1 0 0 1 1 0 0 1 1]\n",
      " [1 1 0 0 1 1 0 0 1 1 0 0 1 1 0 0 1 1 0 0]\n",
      " [1 1 0 0 1 1 0 0 1 1 0 0 1 1 0 0 1 1 0 0]\n",
      " [0 0 1 1 0 0 1 1 0 0 1 1 0 0 1 1 0 0 1 1]\n",
      " [0 0 1 1 0 0 1 1 0 0 1 1 0 0 1 1 0 0 1 1]\n",
      " [1 1 0 0 1 1 0 0 1 1 0 0 1 1 0 0 1 1 0 0]\n",
      " [1 1 0 0 1 1 0 0 1 1 0 0 1 1 0 0 1 1 0 0]\n",
      " [0 0 1 1 0 0 1 1 0 0 1 1 0 0 1 1 0 0 1 1]\n",
      " [0 0 1 1 0 0 1 1 0 0 1 1 0 0 1 1 0 0 1 1]\n",
      " [1 1 0 0 1 1 0 0 1 1 0 0 1 1 0 0 1 1 0 0]\n",
      " [1 1 0 0 1 1 0 0 1 1 0 0 1 1 0 0 1 1 0 0]\n",
      " [0 0 1 1 0 0 1 1 0 0 1 1 0 0 1 1 0 0 1 1]\n",
      " [0 0 1 1 0 0 1 1 0 0 1 1 0 0 1 1 0 0 1 1]\n",
      " [1 1 0 0 1 1 0 0 1 1 0 0 1 1 0 0 1 1 0 0]\n",
      " [1 1 0 0 1 1 0 0 1 1 0 0 1 1 0 0 1 1 0 0]\n",
      " [0 0 1 1 0 0 1 1 0 0 1 1 0 0 1 1 0 0 1 1]\n",
      " [0 0 1 1 0 0 1 1 0 0 1 1 0 0 1 1 0 0 1 1]\n",
      " [1 1 0 0 1 1 0 0 1 1 0 0 1 1 0 0 1 1 0 0]\n",
      " [1 1 0 0 1 1 0 0 1 1 0 0 1 1 0 0 1 1 0 0]]\n"
     ]
    },
    {
     "data": {
      "image/png": "[encoded data removed]",
      "text/plain": [
       "<Figure size 640x480 with 1 Axes>"
      ]
     },
     "metadata": {},
     "output_type": "display_data"
    }
   ],
   "source": [
    "import numpy as np\n",
    "import matplotlib.pyplot as plt\n",
    "\n",
    "class Checker:\n",
    "    def __init__(self, resolution, tile_size):\n",
    "        self.resolution = resolution\n",
    "        self.tile_size = tile_size\n",
    "        self.output = None\n",
    "        \n",
    "        \n",
    "    def draw(self):\n",
    "        idx = np.indices((self.resolution,self.resolution))\n",
    "        #print(idx)\n",
    "        idx_r = idx[0] // self.tile_size\n",
    "        #print(idx_r)\n",
    "        idx_c = idx[1] // self.tile_size\n",
    "        #print(idx_c)\n",
    "        self.output = (idx_r + idx_c) % 2\n",
    "        \n",
    "    \n",
    "        return self.output\n",
    "    def show(self):\n",
    "        \"\"\"\n",
    "        Method to show the checkerboard pattern.\n",
    "        \"\"\"\n",
    "        plt.imshow(self.output, cmap='gray')\n",
    "        plt.axis('off')\n",
    "        plt.tight_layout()  # 调整布局，使棋盘充满整个画布\n",
    "        plt.show()\n",
    "       \n",
    "# Main script\n",
    "if __name__ == \"__main__\":\n",
    "    # Test Checker class\n",
    "    resolution = 20\n",
    "    tile_size = 2\n",
    "    checker = Checker(resolution, tile_size)\n",
    "    print(checker.draw())\n",
    "    checker.show()\n",
    "\n",
    "    \n",
    "\n",
    "        \n",
    "        "
   ]
  },
  {
   "cell_type": "code",
   "execution_count": null,
   "metadata": {},
   "outputs": [],
   "source": []
  },
  {
   "cell_type": "code",
   "execution_count": null,
   "metadata": {},
   "outputs": [],
   "source": [
    "arr1 = np.array([[1],\n",
    "                [2],\n",
    "                [3]])\n",
    "arr2 = np.array([[1,2,3]])\n",
    "\n",
    "arr = arr1+arr2\n",
    "print(arr)\n",
    "\n",
    "#行读取\n",
    "bool_rows = np.array([[True],\n",
    "                      [False],\n",
    "                      [True]])\n",
    "select_rows = arr[bool_rows[:,0],:]\n",
    "print(select_rows)\n",
    "\n",
    "#列读取\n",
    "bool_cols = np.array([[True,False,True]])\n",
    "select_cols = arr[:,bool_cols[0,:]]\n",
    "print(select_cols)"
   ]
  }
 ],
 "metadata": {
  "kernelspec": {
   "display_name": "bit",
   "language": "python",
   "name": "python3"
  },
  "language_info": {
   "codemirror_mode": {
    "name": "ipython",
    "version": 3
   },
   "file_extension": ".py",
   "mimetype": "text/x-python",
   "name": "python",
   "nbconvert_exporter": "python",
   "pygments_lexer": "ipython3",
   "version": "3.7.12"
  }
 },
 "nbformat": 4,
 "nbformat_minor": 2
}
